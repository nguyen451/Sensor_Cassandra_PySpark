{
 "cells": [
  {
   "cell_type": "markdown",
   "id": "ee56a882",
   "metadata": {
    "vscode": {
     "languageId": "plaintext"
    }
   },
   "source": [
    "# PySpark and Cassandra connector"
   ]
  },
  {
   "cell_type": "code",
   "execution_count": null,
   "id": "9fa761c1",
   "metadata": {
    "vscode": {
     "languageId": "plaintext"
    }
   },
   "outputs": [],
   "source": []
  }
 ],
 "metadata": {
  "language_info": {
   "name": "python"
  }
 },
 "nbformat": 4,
 "nbformat_minor": 5
}
