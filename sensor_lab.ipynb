{
 "cells": [
  {
   "cell_type": "markdown",
   "id": "ee56a882",
   "metadata": {
    "vscode": {
     "languageId": "plaintext"
    }
   },
   "source": [
    "# PySpark and Cassandra connector"
   ]
  },
  {
   "cell_type": "code",
   "execution_count": 2,
   "id": "9fa761c1",
   "metadata": {
    "vscode": {
     "languageId": "plaintext"
    }
   },
   "outputs": [
    {
     "ename": "NoHostAvailable",
     "evalue": "('Unable to connect to any servers', {'127.0.0.1:9042': ConnectionRefusedError(111, \"Tried connecting to [('127.0.0.1', 9042)]. Last error: Connection refused\")})",
     "output_type": "error",
     "traceback": [
      "\u001b[31m---------------------------------------------------------------------------\u001b[39m",
      "\u001b[31mNoHostAvailable\u001b[39m                           Traceback (most recent call last)",
      "\u001b[36mCell\u001b[39m\u001b[36m \u001b[39m\u001b[32mIn[2]\u001b[39m\u001b[32m, line 7\u001b[39m\n\u001b[32m      5\u001b[39m \u001b[38;5;66;03m# Tạo Cluster object, driver sẽ thử kết nối tới 127.0.0.1:9042\u001b[39;00m\n\u001b[32m      6\u001b[39m cluster = Cluster(contact_points=contact_points)\n\u001b[32m----> \u001b[39m\u001b[32m7\u001b[39m session = cluster.connect()\n",
      "\u001b[36mFile \u001b[39m\u001b[32m~/anaconda3/envs/islp/lib/python3.12/site-packages/cassandra/cluster.py:1717\u001b[39m, in \u001b[36mcassandra.cluster.Cluster.connect\u001b[39m\u001b[34m()\u001b[39m\n",
      "\u001b[36mFile \u001b[39m\u001b[32m~/anaconda3/envs/islp/lib/python3.12/site-packages/cassandra/cluster.py:1753\u001b[39m, in \u001b[36mcassandra.cluster.Cluster.connect\u001b[39m\u001b[34m()\u001b[39m\n",
      "\u001b[36mFile \u001b[39m\u001b[32m~/anaconda3/envs/islp/lib/python3.12/site-packages/cassandra/cluster.py:1740\u001b[39m, in \u001b[36mcassandra.cluster.Cluster.connect\u001b[39m\u001b[34m()\u001b[39m\n",
      "\u001b[36mFile \u001b[39m\u001b[32m~/anaconda3/envs/islp/lib/python3.12/site-packages/cassandra/cluster.py:3543\u001b[39m, in \u001b[36mcassandra.cluster.ControlConnection.connect\u001b[39m\u001b[34m()\u001b[39m\n",
      "\u001b[36mFile \u001b[39m\u001b[32m~/anaconda3/envs/islp/lib/python3.12/site-packages/cassandra/cluster.py:3588\u001b[39m, in \u001b[36mcassandra.cluster.ControlConnection._reconnect_internal\u001b[39m\u001b[34m()\u001b[39m\n",
      "\u001b[31mNoHostAvailable\u001b[39m: ('Unable to connect to any servers', {'127.0.0.1:9042': ConnectionRefusedError(111, \"Tried connecting to [('127.0.0.1', 9042)]. Last error: Connection refused\")})"
     ]
    }
   ],
   "source": [
    "from cassandra.cluster import Cluster\n",
    "# Chỉ định địa chỉ IP của máy host (đã được Cassandra quảng bá)\n",
    "contact_points = ['127.0.0.1']\n",
    "\n",
    "# Tạo Cluster object, driver sẽ thử kết nối tới 127.0.0.1:9042\n",
    "cluster = Cluster(contact_points=contact_points)\n",
    "session = cluster.connect()"
   ]
  },
  {
   "cell_type": "code",
   "execution_count": null,
   "id": "2fd6ff28-ae21-48c5-9a12-b765ea229fdc",
   "metadata": {},
   "outputs": [],
   "source": []
  }
 ],
 "metadata": {
  "kernelspec": {
   "display_name": "Python 3 (ipykernel)",
   "language": "python",
   "name": "python3"
  },
  "language_info": {
   "codemirror_mode": {
    "name": "ipython",
    "version": 3
   },
   "file_extension": ".py",
   "mimetype": "text/x-python",
   "name": "python",
   "nbconvert_exporter": "python",
   "pygments_lexer": "ipython3",
   "version": "3.12.11"
  }
 },
 "nbformat": 4,
 "nbformat_minor": 5
}
